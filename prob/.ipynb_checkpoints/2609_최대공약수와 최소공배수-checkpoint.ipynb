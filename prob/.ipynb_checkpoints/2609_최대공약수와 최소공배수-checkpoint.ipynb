{
 "cells": [
  {
   "cell_type": "code",
   "execution_count": 2,
   "id": "a97051b5",
   "metadata": {},
   "outputs": [
    {
     "name": "stdout",
     "output_type": "stream",
     "text": [
      "24 18\n",
      "6\n",
      "72\n"
     ]
    }
   ],
   "source": [
    "a, b = map(int, input().split())\n",
    "oa, ob = a, b\n",
    "\n",
    "while b: # 유클리드 호제법\n",
    "    t = b\n",
    "    b = a % b\n",
    "    a = t\n",
    "\n",
    "print(a)\n",
    "print(oa*ob//a)"
   ]
  },
  {
   "cell_type": "code",
   "execution_count": null,
   "id": "79ad03ab",
   "metadata": {},
   "outputs": [],
   "source": []
  }
 ],
 "metadata": {
  "kernelspec": {
   "display_name": "Python 3",
   "language": "python",
   "name": "python3"
  }
 },
 "nbformat": 4,
 "nbformat_minor": 5
}
